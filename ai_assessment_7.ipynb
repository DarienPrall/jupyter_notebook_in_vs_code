{
 "cells": [
  {
   "cell_type": "markdown",
   "metadata": {},
   "source": [
    "#**Sentiment Analysis (Text Classification) Using IMDB Moview Reviews Dataset**\n",
    "\n",
    "**Objective**\n",
    "In this notebook, I will be utilizing the IMDB moview reviews dataset to perform Sentiment Analysis (Text Classification) using Python. \n",
    "\n",
    "**Steps**\n",
    "1. Define assets\n",
    "2. Import necessary libraries\n",
    "3. Understanding Text Processing (Stop Words)\n",
    "4. Load IMDB Reviews, Preprocess\n",
    "5. Split into Training and Testing Sets\n",
    "6. Convert text into numerical features\n",
    "7. Training the Model\n",
    "8. Evaluate the Model\n",
    "9. Visualize Model Performance\n",
    "10. Test Model with New Reviews"
   ]
  },
  {
   "cell_type": "markdown",
   "metadata": {},
   "source": [
    "##**Step 1. Define assets**\n",
    "\n",
    "###**Link**\n",
    "For this project, I will need to download the IMDB moview reviews dataset. \n",
    "Link Here --> [IMDB](https://ai.stanford.edu/~amaas/data/sentiment/)\n",
    "\n",
    "###**Citation:**\n",
    "@InProceedings{maas-EtAl:2011:ACL-HLT2011,\n",
    "  author    = {Maas, Andrew L.  and  Daly, Raymond E.  and  Pham, Peter T.  and  Huang, Dan  and  Ng, Andrew Y.  and  Potts, Christopher},\n",
    "  title     = {Learning Word Vectors for Sentiment Analysis},\n",
    "  booktitle = {Proceedings of the 49th Annual Meeting of the Association for Computational Linguistics: Human Language Technologies},\n",
    "  month     = {June},\n",
    "  year      = {2011},\n",
    "  address   = {Portland, Oregon, USA},\n",
    "  publisher = {Association for Computational Linguistics},\n",
    "  pages     = {142--150},\n",
    "  url       = {http://www.aclweb.org/anthology/P11-1015}\n",
    "}\n",
    "\n",
    "###**Folders**\n",
    "There are two top-level directories [train/, test/] corresponding to\n",
    "the training and test sets. Each contains [pos/, neg/] directories for\n",
    "the reviews with binary labels positive and negative. Within these\n",
    "directories, reviews are stored in text files named following the\n",
    "convention id_rating.txt where id is a unique id and rating is\n",
    "the star rating for that review on a 1-10 scale.\n",
    "- test/\n",
    "    - neg/\n",
    "    - pos/\n",
    "- train/\n",
    "    - neg/\n",
    "    - pos/\n",
    "    - unsup/\n",
    "\n",
    "I will be using the train/pos/ and train/neg/ for training and the test/pos/ and test/neg/ for testing"
   ]
  },
  {
   "cell_type": "markdown",
   "metadata": {},
   "source": [
    "##**Step 2. Import Necessary Libraries**\n",
    "The libraries I will be using as as follows:\n",
    "\n",
    "- nltk\n",
    "- scikit-learn\n",
    "    - model_selection (train_test_split)\n",
    "    - feature_extraction.text (TfidVectorizer)\n",
    "    - naive_bayes (MultinominalNB)\n",
    "    - metrics (classification_report, accuracy_score)\n",
    "- matplotlib\n",
    "\n",
    "I will also be accessing my OS to access the dataset file"
   ]
  },
  {
   "cell_type": "code",
   "execution_count": null,
   "metadata": {},
   "outputs": [],
   "source": [
    "import os\n",
    "import random\n",
    "import nltk\n",
    "from sklearn.model_selection import train_test_split\n",
    "from sklearn.feature_extraction.text import TfidfVectorizer\n",
    "from sklearn.naive_bayes import MultinomialNB\n",
    "from sklearn.metrics import classification_report, accuracy_score\n",
    "import matplotlib as plt"
   ]
  }
 ],
 "metadata": {
  "language_info": {
   "name": "python"
  }
 },
 "nbformat": 4,
 "nbformat_minor": 2
}
